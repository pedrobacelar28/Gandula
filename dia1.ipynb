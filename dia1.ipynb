{
 "cells": [
  {
   "cell_type": "code",
   "execution_count": null,
   "metadata": {},
   "outputs": [],
   "source": [
    "import tensorflow as tf\n",
    "from tensorflow.keras import layers, models\n",
    "\n",
    "def criar_cnn(input_shape):\n",
    "    # 1. Definir a arquitetura da CNN\n",
    "    model = models.Sequential()\n",
    "\n",
    "    # Primeira camada convolutiva\n",
    "    model.add(layers.Conv1D(filters=32, kernel_size=3, activation='relu', input_shape=input_shape))\n",
    "    model.add(layers.MaxPooling1D(pool_size=2))\n",
    "\n",
    "    # Segunda camada convolutiva\n",
    "    model.add(layers.Conv1D(filters=64, kernel_size=3, activation='relu'))\n",
    "    model.add(layers.MaxPooling1D(pool_size=2))\n",
    "\n",
    "    # Flatten para conectar às camadas totalmente conectadas\n",
    "    model.add(layers.Flatten())\n",
    "\n",
    "    # Camada totalmente conectada\n",
    "    model.add(layers.Dense(64, activation='relu'))\n",
    "\n",
    "    # Camada de saída com função de ativação sigmoid (classificação binária)\n",
    "    model.add(layers.Dense(1, activation='sigmoid'))\n",
    "\n",
    "    # 2. Compilar o modelo\n",
    "    model.compile(optimizer='adam', \n",
    "                  loss='binary_crossentropy', \n",
    "                  metrics=['accuracy'])\n",
    "\n",
    "    # 3. Resumo do modelo\n",
    "    model.summary()\n",
    "    \n",
    "    return model\n"
   ]
  },
  {
   "cell_type": "code",
   "execution_count": null,
   "metadata": {},
   "outputs": [],
   "source": [
    "def treinar_avaliar_cnn(model, X_train, y_train, X_val, y_val, X_test, y_test, epochs=20, batch_size=32):\n",
    "    # Treinamento do modelo\n",
    "    history = model.fit(X_train, y_train, epochs=epochs, batch_size=batch_size, validation_data=(X_val, y_val))\n",
    "\n",
    "    # Avaliação do modelo\n",
    "    test_loss, test_acc = model.evaluate(X_test, y_test)\n",
    "    print(f'Test accuracy: {test_acc}')\n",
    "    \n",
    "    return history\n"
   ]
  },
  {
   "cell_type": "code",
   "execution_count": null,
   "metadata": {},
   "outputs": [],
   "source": []
  },
  {
   "cell_type": "code",
   "execution_count": null,
   "metadata": {},
   "outputs": [],
   "source": [
    "input_shape = (X_train.shape[1], 1)  # Exemplo de input shape\n",
    "model = criar_cnn(input_shape)\n",
    "\n",
    "\n",
    "history = treinar_avaliar_cnn(model, X_train, y_train, X_val, y_val, X_test, y_test)\n"
   ]
  }
 ],
 "metadata": {
  "language_info": {
   "name": "python"
  }
 },
 "nbformat": 4,
 "nbformat_minor": 2
}
